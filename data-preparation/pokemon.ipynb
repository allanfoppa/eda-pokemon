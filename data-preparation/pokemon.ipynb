{
 "cells": [
  {
   "attachments": {},
   "cell_type": "markdown",
   "metadata": {},
   "source": [
    "# Preparando o dataset pokemon.csv"
   ]
  },
  {
   "attachments": {},
   "cell_type": "markdown",
   "metadata": {},
   "source": [
    "## Contextualização\n",
    "\n",
    "Fazer a analise inicial do dataset."
   ]
  },
  {
   "attachments": {},
   "cell_type": "markdown",
   "metadata": {},
   "source": [
    "## Obtenção de dados\n",
    "\n",
    "Os dados utilizados nessa análise estão disponiveis no Kaggle (https://www.kaggle.com/datasets/abcsds/pokemon)\n",
    "baixados em 25/06/2023."
   ]
  },
  {
   "cell_type": "code",
   "execution_count": null,
   "metadata": {},
   "outputs": [],
   "source": [
    "# needed packages\n",
    "import pandas as pd\n",
    "import matplotlib.pyplot as plt\n",
    "import numpy as np\n",
    "import seaborn as sns"
   ]
  },
  {
   "cell_type": "code",
   "execution_count": null,
   "metadata": {},
   "outputs": [],
   "source": [
    "# load original dataset\n",
    "df = pd.read_csv(\"../dataset/original/Pokemon.csv\")"
   ]
  },
  {
   "cell_type": "code",
   "execution_count": null,
   "metadata": {},
   "outputs": [],
   "source": [
    "# first five rows\n",
    "df.head()"
   ]
  },
  {
   "attachments": {},
   "cell_type": "markdown",
   "metadata": {},
   "source": [
    "Não é de interesse incluir as megas evoluções na análise. Nos próximos passos remover essas entradas."
   ]
  },
  {
   "cell_type": "code",
   "execution_count": null,
   "metadata": {},
   "outputs": [],
   "source": [
    "# the intend is rename columns to a easy name\n",
    "df_rename_cols = df.rename(\n",
    "  columns={\n",
    "    'Name': 'name',\n",
    "    'Type 1': 'type_1',\n",
    "    'Type 2': 'type_2',\n",
    "    'Total': 'total',\n",
    "    'HP': 'hp',\n",
    "    'Attack': 'attack',\n",
    "    'Defense': 'defense',\n",
    "    'Sp. Atk': 'sp_atk',\n",
    "    'Sp. Def': 'sp_def',\n",
    "    'Speed': 'speed',\n",
    "    'Generation': 'gen',\n",
    "    'Legendary': 'legendary'\n",
    "  }\n",
    ")\n",
    "\n",
    "print(\"Renamed all columns\")"
   ]
  },
  {
   "cell_type": "code",
   "execution_count": null,
   "metadata": {},
   "outputs": [],
   "source": [
    "# excluding mega evolutions\n",
    "filtered_dataset = df_rename_cols[\n",
    "  ~df_rename_cols[\"name\"].str.contains(\"Mega \")\n",
    "]\n",
    "\n",
    "print(f\"Remaining pokémons on dataset: {len(filtered_dataset)}\")\n"
   ]
  },
  {
   "cell_type": "code",
   "execution_count": null,
   "metadata": {},
   "outputs": [],
   "source": [
    "# save filtered data in processed folder\n",
    "filtered_dataset.to_csv(\n",
    "  \"../dataset/processed/pokemon.csv\",\n",
    "  index=False\n",
    ")\n",
    "\n",
    "print(\"Dataset saved at '../dataset/processed/' folder\")\n"
   ]
  }
 ],
 "metadata": {
  "kernelspec": {
   "display_name": ".venv-eda-pokemon",
   "language": "python",
   "name": "python3"
  },
  "language_info": {
   "codemirror_mode": {
    "name": "ipython",
    "version": 3
   },
   "file_extension": ".py",
   "mimetype": "text/x-python",
   "name": "python",
   "nbconvert_exporter": "python",
   "pygments_lexer": "ipython3",
   "version": "3.11.3"
  },
  "orig_nbformat": 4
 },
 "nbformat": 4,
 "nbformat_minor": 2
}
