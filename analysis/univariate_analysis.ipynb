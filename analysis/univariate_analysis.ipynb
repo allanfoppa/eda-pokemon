{
 "cells": [
  {
   "attachments": {},
   "cell_type": "markdown",
   "metadata": {},
   "source": [
    "# Análise univariada"
   ]
  },
  {
   "attachments": {},
   "cell_type": "markdown",
   "metadata": {},
   "source": [
    "## Contextualização\n",
    "\n",
    "A análise univariada corresponde a um processo de análise de dados que consiste em analisar um único\n",
    "atributo de um conjunto de dados por vez. Dessa forma, cada atributo é analisado individualmente\n",
    "de acordo com suas próprias características."
   ]
  },
  {
   "attachments": {},
   "cell_type": "markdown",
   "metadata": {},
   "source": [
    "## Obtenção de dados\n",
    "\n",
    "Os dados utilizados nessa análise estão disponiveis no Kaggle (https://www.kaggle.com/datasets/abcsds/pokemon)\n",
    "baixados em 25/06/2023."
   ]
  },
  {
   "cell_type": "code",
   "execution_count": null,
   "metadata": {},
   "outputs": [],
   "source": [
    "# needed packages\n",
    "import pandas as pd\n",
    "import matplotlib.pyplot as plt\n",
    "import numpy as np\n",
    "import seaborn as sns"
   ]
  },
  {
   "cell_type": "code",
   "execution_count": null,
   "metadata": {},
   "outputs": [],
   "source": [
    "# load dataset\n",
    "df = pd.read_csv(\"../dataset/Pokemon.csv\")"
   ]
  },
  {
   "attachments": {},
   "cell_type": "markdown",
   "metadata": {},
   "source": [
    "### Setando algumas variaveis globais"
   ]
  },
  {
   "cell_type": "code",
   "execution_count": null,
   "metadata": {},
   "outputs": [],
   "source": [
    "# dataset entries\n",
    "df_entries = df.shape[0]"
   ]
  },
  {
   "attachments": {},
   "cell_type": "markdown",
   "metadata": {},
   "source": [
    "## Análise exploratória"
   ]
  },
  {
   "attachments": {},
   "cell_type": "markdown",
   "metadata": {},
   "source": [
    "TIPOS DE VARIÁVEIS:\n",
    "\n",
    "`Variáveis Quantitativas`: são as características que podem ser medidas em uma escala quantitativa, ou seja, apresentam valores numéricos que fazem sentido. Podem ser contínuas ou discretas.\n",
    "* `Discretas`: características mensuráveis que podem assumir apenas um número finito ou infinito contável de valores e, assim, somente fazem sentido valores inteiros. Geralmente são o resultado de contagens. Exemplos: número de filhos, número de bactérias por litro de leite, número de cigarros fumados por dia.\n",
    "* `Contínuas`: características mensuráveis que assumem valores em uma escala contínua (na reta real), para as quais valores fracionais fazem sentido. Usualmente devem ser medidas através de algum instrumento. Exemplos: peso (balança), altura (régua), tempo (relógio), pressão arterial, idade.\n",
    "---\n",
    "`Variáveis Qualitativas (ou categóricas)`: são as características que não possuem valores quantitativos, mas, ao contrário, são definidas por várias categorias, ou seja, representam uma classificação dos indivíduos. Podem ser nominais ou ordinais.\n",
    "* `Nominais`: não existe ordenação dentre as categorias. Exemplos: sexo, cor dos olhos, fumante/não fumante, doente/sadio.\n",
    "* `Ordinais`: existe uma ordenação entre as categorias. Exemplos: escolaridade (1o, 2o, 3o graus), estágio da doença (inicial, intermediário, terminal), mês de observação (janeiro, fevereiro,..., dezembro)."
   ]
  },
  {
   "attachments": {},
   "cell_type": "markdown",
   "metadata": {},
   "source": [
    "### Lista dos atributos a serem analisadas e seu tipo de variável\n",
    "\n",
    "* `Type 1` - qualitativa categórica nominal\n",
    "* `Type 2` - qualitativa categórica nominal\n",
    "* `Total` - quantitativa discreta\n",
    "* `HP` - quantitativa discreta\n",
    "* `Attack` - quantitativa discreta\n",
    "* `Defense` - quantitativa discreta\n",
    "* `SP Atk` - quantitativa discreta\n",
    "* `SP Def` - quantitativa discreta\n",
    "* `Speed` - quantitativa discreta\n",
    "* `Generation` - quantitativa contínua\n",
    "* `Ledendary` - qualitativa categórica nominal"
   ]
  },
  {
   "attachments": {},
   "cell_type": "markdown",
   "metadata": {},
   "source": [
    "### `Type 1`\n"
   ]
  },
  {
   "attachments": {},
   "cell_type": "markdown",
   "metadata": {},
   "source": [
    "#### Q1. Qual tipo primário tem maior quantidade de registros?"
   ]
  },
  {
   "cell_type": "code",
   "execution_count": null,
   "metadata": {},
   "outputs": [],
   "source": [
    "type1 = df[\"Type 1\"].value_counts()\n",
    "type1"
   ]
  },
  {
   "attachments": {},
   "cell_type": "markdown",
   "metadata": {},
   "source": [
    "Q1 Resposta = O tipo primário com maior quantidade é **`Water`**"
   ]
  },
  {
   "cell_type": "code",
   "execution_count": null,
   "metadata": {},
   "outputs": [],
   "source": [
    "# plot a bar chart\n",
    "type1.plot(\n",
    "  kind=\"bar\",\n",
    "  figsize=(18, 5),\n",
    "  title='Número de pokémos e seus tipos primários',\n",
    "  xlabel='Tipo primário'\n",
    ")"
   ]
  },
  {
   "attachments": {},
   "cell_type": "markdown",
   "metadata": {},
   "source": [
    "\n",
    "#### Q2. Quantos Pokémons tem dois tipos?"
   ]
  },
  {
   "cell_type": "code",
   "execution_count": null,
   "metadata": {},
   "outputs": [],
   "source": [
    "has_both_types = df.loc[\n",
    "  (df[\"Type 1\"] != \"\") &\n",
    "  (df[\"Type 2\"] != \"\")\n",
    "].value_counts().sum()\n",
    "\n",
    "print(f'Tem {has_both_types} Pokémons com 2 tipos no dataset')"
   ]
  },
  {
   "attachments": {},
   "cell_type": "markdown",
   "metadata": {},
   "source": [
    "#### NEXT STEP: Análises multivariadas recomendadas"
   ]
  },
  {
   "attachments": {},
   "cell_type": "markdown",
   "metadata": {},
   "source": [
    "### `Type 2`\n"
   ]
  },
  {
   "attachments": {},
   "cell_type": "markdown",
   "metadata": {},
   "source": [
    "#### Q1. Qual tipo secundário tem maior quantidade de registros?"
   ]
  },
  {
   "cell_type": "code",
   "execution_count": null,
   "metadata": {},
   "outputs": [],
   "source": [
    "type2 = df[\"Type 2\"].value_counts()\n",
    "type2"
   ]
  },
  {
   "attachments": {},
   "cell_type": "markdown",
   "metadata": {},
   "source": [
    "Q1 Resposta = O tipo secundário com maior quantidade é **`Flying`**"
   ]
  },
  {
   "cell_type": "code",
   "execution_count": null,
   "metadata": {},
   "outputs": [],
   "source": [
    "# plot a bar chart\n",
    "type2.plot(\n",
    "  kind=\"bar\",\n",
    "  figsize=(18, 5),\n",
    "  title='Número de pokémos e seus tipos secundários',\n",
    "  xlabel='Tipo secundário'\n",
    ")"
   ]
  },
  {
   "attachments": {},
   "cell_type": "markdown",
   "metadata": {},
   "source": [
    "#### NEXT STEP: Análises multivariadas recomendadas"
   ]
  },
  {
   "attachments": {},
   "cell_type": "markdown",
   "metadata": {},
   "source": [
    "### `Total`\n"
   ]
  },
  {
   "attachments": {},
   "cell_type": "markdown",
   "metadata": {},
   "source": [
    "#### Q1. Qual(is) pokémon(s) tem a maior soma no atributo `Total`?"
   ]
  },
  {
   "cell_type": "code",
   "execution_count": null,
   "metadata": {},
   "outputs": [],
   "source": [
    "df_total = df[['Name', 'Total']]\n",
    "df_total_max = df_total.max().to_list() # 780\n",
    "\n",
    "df_total_filtered = df_total.query(f'Total == {df_total_max}')\n",
    "df_total_filtered"
   ]
  },
  {
   "attachments": {},
   "cell_type": "markdown",
   "metadata": {},
   "source": [
    "Q1 Resposta = Há 3 Pokémons que consegue atingir o nivél máximo do total, ambos tem que estar com a mega evolução para isso acontecer."
   ]
  },
  {
   "attachments": {},
   "cell_type": "markdown",
   "metadata": {},
   "source": [
    "#### NEXT STEP: Análises multivariadas recomendadas"
   ]
  },
  {
   "attachments": {},
   "cell_type": "markdown",
   "metadata": {},
   "source": [
    "### `HP`\n"
   ]
  },
  {
   "attachments": {},
   "cell_type": "markdown",
   "metadata": {},
   "source": [
    "#### Q1. Qual(is) pokémon(s) tem o maior `HP`?"
   ]
  },
  {
   "cell_type": "code",
   "execution_count": null,
   "metadata": {},
   "outputs": [],
   "source": [
    "df_hp = df[['Name', 'HP', 'Type 1']]\n",
    "df_hp_max = df_hp.max().to_list()\n",
    "\n",
    "df_hp_filtered = df_hp.query(f'HP == {df_hp_max}')\n",
    "df_hp_filtered"
   ]
  },
  {
   "attachments": {},
   "cell_type": "markdown",
   "metadata": {},
   "source": [
    "Q1 Resposta = O Pokémon com maior HP é o Blissey com 255"
   ]
  },
  {
   "attachments": {},
   "cell_type": "markdown",
   "metadata": {},
   "source": [
    "#### Q2. Qual(is) o(s) tipo(s) que tem o maior `HP`?"
   ]
  },
  {
   "cell_type": "code",
   "execution_count": null,
   "metadata": {},
   "outputs": [],
   "source": [
    "df_hp_filtered_type = df_hp_filtered['Type 1']\n",
    "df_hp_filtered_type.unique()"
   ]
  },
  {
   "attachments": {},
   "cell_type": "markdown",
   "metadata": {},
   "source": [
    "Q2 Resposta = O tipo que tem o maior `HP` do dataset é **Normal**"
   ]
  },
  {
   "attachments": {},
   "cell_type": "markdown",
   "metadata": {},
   "source": [
    "#### NEXT STEP: Análises multivariadas recomendadas"
   ]
  },
  {
   "attachments": {},
   "cell_type": "markdown",
   "metadata": {},
   "source": [
    "### `Attack`\n"
   ]
  },
  {
   "attachments": {},
   "cell_type": "markdown",
   "metadata": {},
   "source": [
    "#### Q1. Qual(is) pokémon(s) tem o maior `Attack`?"
   ]
  },
  {
   "cell_type": "code",
   "execution_count": null,
   "metadata": {},
   "outputs": [],
   "source": [
    "df_attack = df[['Name', 'Attack', 'Type 1']]\n",
    "df_attack_max = df_attack.max().to_list()\n",
    "\n",
    "df_attack_filtered = df_attack.query(f'Attack == {df_attack_max}')\n",
    "df_attack_filtered"
   ]
  },
  {
   "attachments": {},
   "cell_type": "markdown",
   "metadata": {},
   "source": [
    "Q1 Resposta = O Pokémon com maior ataque fisico do dataset é o Mewtwo com a Mega evolução"
   ]
  },
  {
   "attachments": {},
   "cell_type": "markdown",
   "metadata": {},
   "source": [
    "#### Q2. Qual(is) o(s) tipo(s) que tem o maior `Attack`?"
   ]
  },
  {
   "cell_type": "code",
   "execution_count": null,
   "metadata": {},
   "outputs": [],
   "source": [
    "df_attack_filtered_type = df_attack_filtered['Type 1']\n",
    "df_attack_filtered_type.unique()"
   ]
  },
  {
   "attachments": {},
   "cell_type": "markdown",
   "metadata": {},
   "source": [
    "Q2 Resposta = O tipo que tem o maior `Attack` do dataset é **Psychic**"
   ]
  },
  {
   "attachments": {},
   "cell_type": "markdown",
   "metadata": {},
   "source": [
    "#### NEXT STEP: Análises multivariadas recomendadas"
   ]
  },
  {
   "attachments": {},
   "cell_type": "markdown",
   "metadata": {},
   "source": [
    "### `Defense`\n"
   ]
  },
  {
   "attachments": {},
   "cell_type": "markdown",
   "metadata": {},
   "source": [
    "#### Q1. Qual(is) pokémon(s) tem o maior `Defense`?"
   ]
  },
  {
   "cell_type": "code",
   "execution_count": null,
   "metadata": {},
   "outputs": [],
   "source": [
    "df_defense = df[['Name', 'Defense', 'Type 1']]\n",
    "df_defense_max = df_defense.max().to_list()\n",
    "\n",
    "df_defense_filtered = df_defense.query(f'Defense == {df_defense_max}')\n",
    "df_defense_filtered"
   ]
  },
  {
   "attachments": {},
   "cell_type": "markdown",
   "metadata": {},
   "source": [
    "Q1 Resposta = Há 3 Pokémons com as maiores defesas, dois deles contando com os atributos da mega evolução."
   ]
  },
  {
   "attachments": {},
   "cell_type": "markdown",
   "metadata": {},
   "source": [
    "#### Q2. Qual(is) o(s) tipo(s) que tem o maior `Defense`?"
   ]
  },
  {
   "cell_type": "code",
   "execution_count": null,
   "metadata": {},
   "outputs": [],
   "source": [
    "df_defense_filtered_type = df_defense_filtered['Type 1']\n",
    "df_defense_filtered_type.unique()"
   ]
  },
  {
   "attachments": {},
   "cell_type": "markdown",
   "metadata": {},
   "source": [
    "Q2 Resposta = Os tipos que tem a maior `Defense` do dataset é **Steel e Bug**"
   ]
  },
  {
   "attachments": {},
   "cell_type": "markdown",
   "metadata": {},
   "source": [
    "#### NEXT STEP: Análises multivariadas recomendadas"
   ]
  },
  {
   "attachments": {},
   "cell_type": "markdown",
   "metadata": {},
   "source": [
    "### `SP Atk`"
   ]
  },
  {
   "attachments": {},
   "cell_type": "markdown",
   "metadata": {},
   "source": [
    "#### Q1. Qual(is) pokémon(s) tem o maior `Sp. Atk`?"
   ]
  },
  {
   "cell_type": "code",
   "execution_count": null,
   "metadata": {},
   "outputs": [],
   "source": [
    "df_sp_attack = df[['Name', 'Sp. Atk', 'Type 1']].reset_index().rename(\n",
    "  columns={\n",
    "    'Sp. Atk': 'sp_atk'\n",
    "  }\n",
    ")\n",
    "\n",
    "df_sp_attack_max = df_sp_attack.max().to_list()\n",
    "\n",
    "df_sp_attack_filtered = df_sp_attack.query(f\"sp_atk == {df_sp_attack_max}\")\n",
    "df_sp_attack_filtered\n"
   ]
  },
  {
   "attachments": {},
   "cell_type": "markdown",
   "metadata": {},
   "source": [
    "Q1 Resposta = O Pokémon com maior ataque especial é o Mewtwo com a mega evolução"
   ]
  },
  {
   "attachments": {},
   "cell_type": "markdown",
   "metadata": {},
   "source": [
    "#### Q2. Qual(is) o(s) tipo(s) que tem o maior `Sp. Atk`?"
   ]
  },
  {
   "cell_type": "code",
   "execution_count": null,
   "metadata": {},
   "outputs": [],
   "source": [
    "df_sp_atk_filtered_type = df_sp_attack_filtered['Type 1']\n",
    "df_sp_atk_filtered_type.unique()"
   ]
  },
  {
   "attachments": {},
   "cell_type": "markdown",
   "metadata": {},
   "source": [
    "Q2 Resposta = O tipo que tem o maior `Sp. Attack` do dataset é **Psychic**"
   ]
  },
  {
   "attachments": {},
   "cell_type": "markdown",
   "metadata": {},
   "source": [
    "#### NEXT STEP: Análises multivariadas recomendadas"
   ]
  },
  {
   "attachments": {},
   "cell_type": "markdown",
   "metadata": {},
   "source": [
    "### `SP Def`"
   ]
  },
  {
   "attachments": {},
   "cell_type": "markdown",
   "metadata": {},
   "source": [
    "#### Q1. Qual(is) pokémon(s) tem a maior `Sp. Def`?"
   ]
  },
  {
   "cell_type": "code",
   "execution_count": null,
   "metadata": {},
   "outputs": [],
   "source": [
    "df_sp_def = df[['Name', 'Sp. Def', 'Type 1']].reset_index().rename(\n",
    "  columns={\n",
    "    'Sp. Def': 'sp_def'\n",
    "  }\n",
    ")\n",
    "\n",
    "df_sp_def_max = df_sp_def.max().to_list()\n",
    "\n",
    "df_sp_def_filtered = df_sp_def.query(f\"sp_def == {df_sp_def_max}\")\n",
    "df_sp_def_filtered"
   ]
  },
  {
   "attachments": {},
   "cell_type": "markdown",
   "metadata": {},
   "source": [
    "Q1 Resposta = O Pokémon com a maior defesa especial do dataset é o Shuckle"
   ]
  },
  {
   "attachments": {},
   "cell_type": "markdown",
   "metadata": {},
   "source": [
    "#### Q2. Qual(is) o(s) tipo(s) que tem o maior `Sp. Def`?"
   ]
  },
  {
   "cell_type": "code",
   "execution_count": null,
   "metadata": {},
   "outputs": [],
   "source": [
    "df_sp_def_filtered_type = df_sp_def_filtered['Type 1']\n",
    "df_sp_def_filtered_type.unique()"
   ]
  },
  {
   "attachments": {},
   "cell_type": "markdown",
   "metadata": {},
   "source": [
    "Q2 Resposta = O tipo do pokémon com a maior defesa especial é **BUG**"
   ]
  },
  {
   "attachments": {},
   "cell_type": "markdown",
   "metadata": {},
   "source": [
    "#### NEXT STEP: Análises multivariadas recomendadas"
   ]
  },
  {
   "attachments": {},
   "cell_type": "markdown",
   "metadata": {},
   "source": [
    "### `Speed`"
   ]
  },
  {
   "attachments": {},
   "cell_type": "markdown",
   "metadata": {},
   "source": [
    "#### Q1. Qual(is) pokémon(s) tem a maior `Speed`?"
   ]
  },
  {
   "cell_type": "code",
   "execution_count": null,
   "metadata": {},
   "outputs": [],
   "source": [
    "df_speed = df[['Name', 'Speed', 'Type 1']]\n",
    "df_speed_max = df_speed.max().to_list()\n",
    "\n",
    "df_speed_filtered = df_speed.query(f'Speed == {df_speed_max}')\n",
    "df_speed_filtered"
   ]
  },
  {
   "attachments": {},
   "cell_type": "markdown",
   "metadata": {},
   "source": [
    "Q1 Resposta = O pokémon com a maior `Speed` é o Deoxys Speed Forme"
   ]
  },
  {
   "attachments": {},
   "cell_type": "markdown",
   "metadata": {},
   "source": [
    "#### Q2. Qual(is) o(s) tipo(s) que tem o maior `Speed`?"
   ]
  },
  {
   "cell_type": "code",
   "execution_count": null,
   "metadata": {},
   "outputs": [],
   "source": [
    "df_speed_filtered_type = df_speed_filtered['Type 1']\n",
    "df_speed_filtered_type.unique()"
   ]
  },
  {
   "attachments": {},
   "cell_type": "markdown",
   "metadata": {},
   "source": [
    "Q2 Resposta = O tipo do pokémon mais rápido do dataset é **Psychic**"
   ]
  },
  {
   "attachments": {},
   "cell_type": "markdown",
   "metadata": {},
   "source": [
    "#### NEXT STEP: Análises multivariadas recomendadas"
   ]
  },
  {
   "attachments": {},
   "cell_type": "markdown",
   "metadata": {},
   "source": [
    "### `Generation`"
   ]
  },
  {
   "attachments": {},
   "cell_type": "markdown",
   "metadata": {},
   "source": [
    "#### Q1. Qual geração tem mais registros de pokémon nesse dataset?"
   ]
  },
  {
   "cell_type": "code",
   "execution_count": null,
   "metadata": {},
   "outputs": [],
   "source": [
    "df['Generation'].value_counts().plot(\n",
    "  kind='bar',\n",
    "  figsize=(10, 5),\n",
    ")\n",
    "\n",
    "plt.xticks(rotation = 0)\n"
   ]
  },
  {
   "attachments": {},
   "cell_type": "markdown",
   "metadata": {},
   "source": [
    "Q1 Resposta = A geração que tem mais registros no dataset é a 1 (primeira), mas, como na geração 1 tem 151 pokémons e foi contado 166. Seria interessante remover as mega evoluções."
   ]
  },
  {
   "attachments": {},
   "cell_type": "markdown",
   "metadata": {},
   "source": [
    "#### NEXT STEP: Análises multivariadas recomendadas"
   ]
  },
  {
   "attachments": {},
   "cell_type": "markdown",
   "metadata": {},
   "source": [
    "### `Legendary`"
   ]
  },
  {
   "attachments": {},
   "cell_type": "markdown",
   "metadata": {},
   "source": [
    "#### Q1. Quantos pokémons lendários tem nesse dataset?"
   ]
  },
  {
   "cell_type": "code",
   "execution_count": null,
   "metadata": {},
   "outputs": [],
   "source": [
    "df_legendary = df.loc[\n",
    "  (df[\"Legendary\"] == True)\n",
    "].count()\n",
    "\n",
    "print(f\"Há {df_legendary['Legendary']} pokémons lendários\")"
   ]
  },
  {
   "attachments": {},
   "cell_type": "markdown",
   "metadata": {},
   "source": [
    "Q1 Resposta = Há 65 pokémons lendários no dataset"
   ]
  },
  {
   "attachments": {},
   "cell_type": "markdown",
   "metadata": {},
   "source": [
    "\n",
    "#### Q2. Qual(is) os tipos desses pokémons?"
   ]
  },
  {
   "cell_type": "code",
   "execution_count": null,
   "metadata": {},
   "outputs": [],
   "source": [
    "df_legendary_by_type = df[['Type 1', 'Legendary']]\n",
    "\n",
    "df_legendary_filtered = df_legendary_by_type.query(f'Legendary == True')\n",
    "df_legendary_filtered['Type 1'].unique()"
   ]
  },
  {
   "attachments": {},
   "cell_type": "markdown",
   "metadata": {},
   "source": [
    "Q2 Resposta = Há 15 tipos que são lendários no dataset, são eles, `Ice`, `Electric`, `Fire`, `Psychic`, `Water`, `Rock`, `Steel`, `Dragon`, `Ground`, `Normal`, `Ghost`, `Dark`, `Grass`, `Flying`, `Fairy`."
   ]
  },
  {
   "attachments": {},
   "cell_type": "markdown",
   "metadata": {},
   "source": [
    "#### NEXT STEP: Análises multivariadas recomendadas"
   ]
  },
  {
   "attachments": {},
   "cell_type": "markdown",
   "metadata": {},
   "source": [
    "## Conclusão"
   ]
  }
 ],
 "metadata": {
  "kernelspec": {
   "display_name": ".venv-eda-pokemon",
   "language": "python",
   "name": "python3"
  },
  "language_info": {
   "codemirror_mode": {
    "name": "ipython",
    "version": 3
   },
   "file_extension": ".py",
   "mimetype": "text/x-python",
   "name": "python",
   "nbconvert_exporter": "python",
   "pygments_lexer": "ipython3",
   "version": "3.11.3"
  },
  "orig_nbformat": 4
 },
 "nbformat": 4,
 "nbformat_minor": 2
}
