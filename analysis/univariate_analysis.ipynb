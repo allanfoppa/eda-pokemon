{
 "cells": [
  {
   "attachments": {},
   "cell_type": "markdown",
   "metadata": {},
   "source": [
    "# Análise univariada"
   ]
  },
  {
   "attachments": {},
   "cell_type": "markdown",
   "metadata": {},
   "source": [
    "## Contextualização\n",
    "\n",
    "A análise univariada corresponde a um processo de análise de dados que consiste em analisar um único\n",
    "atributo de um conjunto de dados por vez. Dessa forma, cada atributo é analisado individualmente\n",
    "de acordo com suas próprias características."
   ]
  },
  {
   "attachments": {},
   "cell_type": "markdown",
   "metadata": {},
   "source": [
    "## Obtenção de dados"
   ]
  },
  {
   "cell_type": "code",
   "execution_count": null,
   "metadata": {},
   "outputs": [],
   "source": [
    "# needed packages\n",
    "import pandas as pd\n",
    "import matplotlib.pyplot as plt\n",
    "import numpy as np\n",
    "import seaborn as sns"
   ]
  },
  {
   "cell_type": "code",
   "execution_count": null,
   "metadata": {},
   "outputs": [],
   "source": [
    "# load dataset\n",
    "df = pd.read_csv(\"../dataset/processed/pokemon.csv\")"
   ]
  },
  {
   "cell_type": "code",
   "execution_count": null,
   "metadata": {},
   "outputs": [],
   "source": [
    "df.head()"
   ]
  },
  {
   "attachments": {},
   "cell_type": "markdown",
   "metadata": {},
   "source": [
    "### Helpers"
   ]
  },
  {
   "cell_type": "code",
   "execution_count": null,
   "metadata": {},
   "outputs": [],
   "source": [
    "# dataset entries\n",
    "df_entries = df.shape[0]"
   ]
  },
  {
   "cell_type": "code",
   "execution_count": null,
   "metadata": {},
   "outputs": [],
   "source": [
    "def find_targets(dataframe, variable):\n",
    "  df_total_max = dataframe[variable].max()\n",
    "  df_total_filtered = dataframe.query(f'{variable} == {df_total_max}')\n",
    "  return df_total_filtered"
   ]
  },
  {
   "attachments": {},
   "cell_type": "markdown",
   "metadata": {},
   "source": [
    "## Análise exploratória"
   ]
  },
  {
   "attachments": {},
   "cell_type": "markdown",
   "metadata": {},
   "source": [
    "TIPOS DE VARIÁVEIS:\n",
    "\n",
    "`Variáveis Quantitativas`: são as características que podem ser medidas em uma escala quantitativa, ou seja, apresentam valores numéricos que fazem sentido. Podem ser contínuas ou discretas.\n",
    "* `Discretas`: características mensuráveis que podem assumir apenas um número finito ou infinito contável de valores e, assim, somente fazem sentido valores inteiros. Geralmente são o resultado de contagens. Exemplos: número de filhos, número de bactérias por litro de leite, número de cigarros fumados por dia.\n",
    "* `Contínuas`: características mensuráveis que assumem valores em uma escala contínua (na reta real), para as quais valores fracionais fazem sentido. Usualmente devem ser medidas através de algum instrumento. Exemplos: peso (balança), altura (régua), tempo (relógio), pressão arterial, idade.\n",
    "---\n",
    "`Variáveis Qualitativas (ou categóricas)`: são as características que não possuem valores quantitativos, mas, ao contrário, são definidas por várias categorias, ou seja, representam uma classificação dos indivíduos. Podem ser nominais ou ordinais.\n",
    "* `Nominais`: não existe ordenação dentre as categorias. Exemplos: sexo, cor dos olhos, fumante/não fumante, doente/sadio.\n",
    "* `Ordinais`: existe uma ordenação entre as categorias. Exemplos: escolaridade (1o, 2o, 3o graus), estágio da doença (inicial, intermediário, terminal), mês de observação (janeiro, fevereiro,..., dezembro)."
   ]
  },
  {
   "attachments": {},
   "cell_type": "markdown",
   "metadata": {},
   "source": [
    "### Lista dos atributos a serem analisadas e seu tipo de variável\n",
    "\n",
    "* `type_1` - qualitativa categórica nominal\n",
    "* `type_2` - qualitativa categórica nominal\n",
    "* `total` - quantitativa discreta\n",
    "* `hp` - quantitativa discreta\n",
    "* `atk` - quantitativa discreta\n",
    "* `def` - quantitativa discreta\n",
    "* `sp_atk` - quantitativa discreta\n",
    "* `sp_def` - quantitativa discreta\n",
    "* `speed` - quantitativa discreta\n",
    "* `gen` - quantitativa contínua\n",
    "* `ledendary` - qualitativa categórica nominal"
   ]
  },
  {
   "attachments": {},
   "cell_type": "markdown",
   "metadata": {},
   "source": [
    "### `Type 1`\n"
   ]
  },
  {
   "attachments": {},
   "cell_type": "markdown",
   "metadata": {},
   "source": [
    "#### Q1. Qual tipo primário tem maior quantidade de registros?"
   ]
  },
  {
   "cell_type": "code",
   "execution_count": null,
   "metadata": {},
   "outputs": [],
   "source": [
    "type1 = df[\"type_1\"].value_counts()\n",
    "\n",
    "print(f\"The type with the most amount of records is {type1.index[0]} ({type1[0]})\")"
   ]
  },
  {
   "attachments": {},
   "cell_type": "markdown",
   "metadata": {},
   "source": [
    "#### Q2. Qual tipo primário tem menor quantidade de registros?"
   ]
  },
  {
   "cell_type": "code",
   "execution_count": null,
   "metadata": {},
   "outputs": [],
   "source": [
    "type1 = df[\"type_1\"].value_counts()\n",
    "\n",
    "print(f\"The type with the least amount of records is {type1.index[-1]} ({type1[-1]})\")"
   ]
  },
  {
   "cell_type": "code",
   "execution_count": null,
   "metadata": {},
   "outputs": [],
   "source": [
    "# plot a bar chart\n",
    "type1.plot(\n",
    "  kind=\"bar\",\n",
    "  figsize=(18, 5),\n",
    "  title='Número de pokémos e seus tipos primários',\n",
    "  xlabel='Tipo primário'\n",
    ")"
   ]
  },
  {
   "attachments": {},
   "cell_type": "markdown",
   "metadata": {},
   "source": [
    "\n",
    "#### Q3. Quantos Pokémons tem dois tipos?"
   ]
  },
  {
   "cell_type": "code",
   "execution_count": null,
   "metadata": {},
   "outputs": [],
   "source": [
    "has_both_types = df.loc[\n",
    "  (df[\"type_1\"] != \"\") &\n",
    "  (df[\"type_2\"] != \"\")\n",
    "].value_counts().sum()\n",
    "\n",
    "print(f\"From {df_entries} entries {has_both_types} pokemons has 2 types in the dataset\")"
   ]
  },
  {
   "attachments": {},
   "cell_type": "markdown",
   "metadata": {},
   "source": [
    "### `Type 2`\n"
   ]
  },
  {
   "attachments": {},
   "cell_type": "markdown",
   "metadata": {},
   "source": [
    "#### Q1. Qual tipo secundário tem maior quantidade de registros?"
   ]
  },
  {
   "cell_type": "code",
   "execution_count": null,
   "metadata": {},
   "outputs": [],
   "source": [
    "type2 = df[\"type_2\"].value_counts()\n",
    "\n",
    "print(f\"The secundary type with the most amount of logging is {type2.index[0]} ({type2[0]})\")"
   ]
  },
  {
   "cell_type": "code",
   "execution_count": null,
   "metadata": {},
   "outputs": [],
   "source": [
    "# plot a bar chart\n",
    "type2.plot(\n",
    "  kind=\"bar\",\n",
    "  figsize=(18, 5),\n",
    "  title='Número de pokémos e seus tipos secundários',\n",
    "  xlabel='Tipo secundário'\n",
    ")"
   ]
  },
  {
   "attachments": {},
   "cell_type": "markdown",
   "metadata": {},
   "source": [
    "### `Total`\n"
   ]
  },
  {
   "attachments": {},
   "cell_type": "markdown",
   "metadata": {},
   "source": [
    "#### Q1. Qual(is) pokémon(s) tem a maior soma no atributo `Total`?"
   ]
  },
  {
   "cell_type": "code",
   "execution_count": null,
   "metadata": {},
   "outputs": [],
   "source": [
    "df_total = df[['name', 'total']]"
   ]
  },
  {
   "cell_type": "code",
   "execution_count": null,
   "metadata": {},
   "outputs": [],
   "source": [
    "df_total_filtered = find_targets(df_total, 'total')\n",
    "\n",
    "print(f\"There are {len(df_total_filtered)} Pokémon(s) with highest HP attribute.\")\n",
    "for i, row in df_total_filtered.iterrows():\n",
    "  print(row['name'])"
   ]
  },
  {
   "attachments": {},
   "cell_type": "markdown",
   "metadata": {},
   "source": [
    "### `HP`\n"
   ]
  },
  {
   "attachments": {},
   "cell_type": "markdown",
   "metadata": {},
   "source": [
    "#### Q1. Qual(is) pokémon(s) tem o maior `HP`?"
   ]
  },
  {
   "cell_type": "code",
   "execution_count": null,
   "metadata": {},
   "outputs": [],
   "source": [
    "df_hp = df[['name', 'hp', 'type_1']]"
   ]
  },
  {
   "cell_type": "code",
   "execution_count": null,
   "metadata": {},
   "outputs": [],
   "source": [
    "df_hp_filtered = find_targets(df_hp, 'hp')\n",
    "\n",
    "print(f\"There are {len(df_hp_filtered)} Pokémon(s) with highest HP attribute.\")\n",
    "for i, row in df_hp_filtered.iterrows():\n",
    "  print(row['name'])"
   ]
  },
  {
   "attachments": {},
   "cell_type": "markdown",
   "metadata": {},
   "source": [
    "#### Q2. Qual(is) o(s) tipo(s) que tem o maior `HP`?"
   ]
  },
  {
   "cell_type": "code",
   "execution_count": null,
   "metadata": {},
   "outputs": [],
   "source": [
    "df_hp_filtered = find_targets(df_hp, 'hp')\n",
    "df_hp_filtered_type = df_hp_filtered['type_1']\n",
    "df_hp_filtered_type.unique()\n",
    "\n",
    "print(f\"There are {len(df_hp_filtered_type)} Pokémon(s) with highest HP attribute.\")\n",
    "for i in df_hp_filtered_type:\n",
    "  print(i)"
   ]
  },
  {
   "attachments": {},
   "cell_type": "markdown",
   "metadata": {},
   "source": [
    "### `Attack`\n"
   ]
  },
  {
   "attachments": {},
   "cell_type": "markdown",
   "metadata": {},
   "source": [
    "#### Q1. Qual(is) pokémon(s) tem o maior `Attack`?"
   ]
  },
  {
   "cell_type": "code",
   "execution_count": null,
   "metadata": {},
   "outputs": [],
   "source": [
    "df_atk = df[['name', 'attack', 'type_1']]"
   ]
  },
  {
   "cell_type": "code",
   "execution_count": null,
   "metadata": {},
   "outputs": [],
   "source": [
    "df_atk_filtered = find_targets(df_atk, 'attack')\n",
    "\n",
    "print(f\"There are {len(df_atk_filtered)} Pokémon(s) with highest Defense attribute.\")\n",
    "for i, row in df_atk_filtered.iterrows():\n",
    "  print(row['name'])"
   ]
  },
  {
   "attachments": {},
   "cell_type": "markdown",
   "metadata": {},
   "source": [
    "#### Q2. Qual(is) o(s) tipo(s) que tem o maior `Attack`?"
   ]
  },
  {
   "cell_type": "code",
   "execution_count": null,
   "metadata": {},
   "outputs": [],
   "source": [
    "df_attack_filtered = find_targets(df_atk, 'attack')\n",
    "df_attack_filtered_type = df_attack_filtered['type_1']\n",
    "df_attack_filtered_type.unique()\n",
    "\n",
    "print(f\"There are {len(df_attack_filtered_type)} Pokémon(s) with highest Attack attribute.\")\n",
    "for i in df_attack_filtered_type:\n",
    "  print(i)"
   ]
  },
  {
   "attachments": {},
   "cell_type": "markdown",
   "metadata": {},
   "source": [
    "### `Defense`\n"
   ]
  },
  {
   "attachments": {},
   "cell_type": "markdown",
   "metadata": {},
   "source": [
    "#### Q1. Qual(is) pokémon(s) tem o maior `Defense`?"
   ]
  },
  {
   "cell_type": "code",
   "execution_count": null,
   "metadata": {},
   "outputs": [],
   "source": [
    "df_def = df[['name', 'defense', 'type_1']]"
   ]
  },
  {
   "cell_type": "code",
   "execution_count": null,
   "metadata": {},
   "outputs": [],
   "source": [
    "df_def_filtered = find_targets(df_def, 'defense')\n",
    "\n",
    "print(f\"There are {len(df_def_filtered)} Pokémon(s) with highest Defense attribute.\")\n",
    "for i, row in df_def_filtered.iterrows():\n",
    "  print(row['name'])"
   ]
  },
  {
   "attachments": {},
   "cell_type": "markdown",
   "metadata": {},
   "source": [
    "#### Q2. Qual(is) o(s) tipo(s) que tem o maior `Defense`?"
   ]
  },
  {
   "cell_type": "code",
   "execution_count": null,
   "metadata": {},
   "outputs": [],
   "source": [
    "df_defense_filtered = find_targets(df_def, 'defense')\n",
    "df_defense_filtered_type = df_defense_filtered['type_1']\n",
    "df_defense_filtered_type.unique()\n",
    "\n",
    "print(f\"There are {len(df_defense_filtered_type)} Pokémon(s) with highest Defense attribute.\")\n",
    "for i in df_defense_filtered_type:\n",
    "  print(i)"
   ]
  },
  {
   "attachments": {},
   "cell_type": "markdown",
   "metadata": {},
   "source": [
    "### `SP Atk`"
   ]
  },
  {
   "attachments": {},
   "cell_type": "markdown",
   "metadata": {},
   "source": [
    "#### Q1. Qual(is) pokémon(s) tem o maior `Sp. Atk`?"
   ]
  },
  {
   "cell_type": "code",
   "execution_count": null,
   "metadata": {},
   "outputs": [],
   "source": [
    "df_sp_atk = df[['name', 'sp_atk', 'type_1']]"
   ]
  },
  {
   "cell_type": "code",
   "execution_count": null,
   "metadata": {},
   "outputs": [],
   "source": [
    "df_sp_atk_filtered = find_targets(df_sp_atk, 'sp_atk')\n",
    "\n",
    "print(f\"There are {len(df_sp_atk_filtered)} Pokémon(s) with highest Sp. Atk attribute.\")\n",
    "for i, row in df_sp_atk_filtered.iterrows():\n",
    "  print(row['name'])"
   ]
  },
  {
   "attachments": {},
   "cell_type": "markdown",
   "metadata": {},
   "source": [
    "#### Q2. Qual(is) o(s) tipo(s) que tem o maior `Sp. Atk`?"
   ]
  },
  {
   "cell_type": "code",
   "execution_count": null,
   "metadata": {},
   "outputs": [],
   "source": [
    "df_sp_atk_filtered = find_targets(df_sp_atk, 'sp_atk')\n",
    "df_sp_atk_filtered_type = df_sp_atk_filtered['type_1']\n",
    "df_sp_atk_filtered_type.unique()\n",
    "\n",
    "print(f\"There are {len(df_sp_atk_filtered_type)} Pokémon(s) with highest Sp. Atk attribute.\")\n",
    "for i in df_sp_atk_filtered_type:\n",
    "  print(i)"
   ]
  },
  {
   "attachments": {},
   "cell_type": "markdown",
   "metadata": {},
   "source": [
    "### `SP Def`"
   ]
  },
  {
   "attachments": {},
   "cell_type": "markdown",
   "metadata": {},
   "source": [
    "#### Q1. Qual(is) pokémon(s) tem a maior `Sp. Def`?"
   ]
  },
  {
   "cell_type": "code",
   "execution_count": null,
   "metadata": {},
   "outputs": [],
   "source": [
    "df_sp_def = df[['name', 'sp_def', 'type_1']]"
   ]
  },
  {
   "cell_type": "code",
   "execution_count": null,
   "metadata": {},
   "outputs": [],
   "source": [
    "df_sp_def_filtered = find_targets(df_sp_def, 'sp_def')\n",
    "\n",
    "print(f\"There are {len(df_sp_def_filtered)} Pokémon(s) with highest Sp. Def attribute.\")\n",
    "for i, row in df_sp_def_filtered.iterrows():\n",
    "  print(row['name'])"
   ]
  },
  {
   "attachments": {},
   "cell_type": "markdown",
   "metadata": {},
   "source": [
    "#### Q2. Qual(is) o(s) tipo(s) que tem o maior `Sp. Def`?"
   ]
  },
  {
   "cell_type": "code",
   "execution_count": null,
   "metadata": {},
   "outputs": [],
   "source": [
    "df_sp_def_filtered = find_targets(df_sp_def, 'sp_def')\n",
    "df_sp_def_filtered_type = df_sp_def_filtered['type_1']\n",
    "df_sp_def_filtered_type.unique()\n",
    "\n",
    "print(f\"There are {len(df_sp_def_filtered_type)} Pokémon(s) with highest Sp. Def attribute.\")\n",
    "for i in df_sp_def_filtered_type:\n",
    "  print(i)"
   ]
  },
  {
   "attachments": {},
   "cell_type": "markdown",
   "metadata": {},
   "source": [
    "### `Speed`"
   ]
  },
  {
   "attachments": {},
   "cell_type": "markdown",
   "metadata": {},
   "source": [
    "#### Q1. Qual(is) pokémon(s) tem a maior `Speed`?"
   ]
  },
  {
   "cell_type": "code",
   "execution_count": null,
   "metadata": {},
   "outputs": [],
   "source": [
    "df_speed = df[['name', 'speed', 'type_1']]"
   ]
  },
  {
   "cell_type": "code",
   "execution_count": null,
   "metadata": {},
   "outputs": [],
   "source": [
    "df_speed_filtered = find_targets(df_speed, 'speed')\n",
    "\n",
    "print(f\"There are {len(df_speed_filtered)} Pokémon(s) with highest speed attribute.\")\n",
    "for i, row in df_speed_filtered.iterrows():\n",
    "  print(row['name'])"
   ]
  },
  {
   "attachments": {},
   "cell_type": "markdown",
   "metadata": {},
   "source": [
    "#### Q2. Qual(is) o(s) tipo(s) que tem o maior `Speed`?"
   ]
  },
  {
   "cell_type": "code",
   "execution_count": null,
   "metadata": {},
   "outputs": [],
   "source": [
    "df_speed_filtered = find_targets(df_speed, 'speed')\n",
    "df_speed_filtered_type = df_speed_filtered['type_1']\n",
    "df_speed_filtered_type.unique()\n",
    "\n",
    "print(f\"There are {len(df_speed_filtered_type)} Pokémon(s) with highest speed attribute.\")\n",
    "for i in df_speed_filtered_type:\n",
    "  print(i)"
   ]
  },
  {
   "attachments": {},
   "cell_type": "markdown",
   "metadata": {},
   "source": [
    "### `Generation`"
   ]
  },
  {
   "attachments": {},
   "cell_type": "markdown",
   "metadata": {},
   "source": [
    "#### Q1. Qual geração tem mais registros de pokémon nesse dataset?"
   ]
  },
  {
   "cell_type": "code",
   "execution_count": null,
   "metadata": {},
   "outputs": [],
   "source": [
    "df['gen'].value_counts().plot(\n",
    "  kind='bar',\n",
    "  figsize=(10, 5),\n",
    ")\n",
    "\n",
    "plt.xticks(rotation = 0)\n",
    "plt.title(\"Gerações e sua quantidade de Pokémons\")\n",
    "plt.xlabel(\"Generation\")\n",
    "\n",
    "gen_max = df['gen'].value_counts().index[0]\n",
    "\n",
    "print(f'A geração que tem mais registros no dataset é a {gen_max}.')"
   ]
  },
  {
   "attachments": {},
   "cell_type": "markdown",
   "metadata": {},
   "source": [
    "### `Legendary`"
   ]
  },
  {
   "attachments": {},
   "cell_type": "markdown",
   "metadata": {},
   "source": [
    "#### Q1. Quantos pokémons lendários tem nesse dataset?"
   ]
  },
  {
   "cell_type": "code",
   "execution_count": null,
   "metadata": {},
   "outputs": [],
   "source": [
    "df_legendary = df.loc[\n",
    "  (df[\"legendary\"] == True)\n",
    "].count()\n",
    "\n",
    "print(f\"Há {df_legendary['legendary']} pokémons lendários\")"
   ]
  },
  {
   "attachments": {},
   "cell_type": "markdown",
   "metadata": {},
   "source": [
    "\n",
    "#### Q2. Qual(is) os tipos desses pokémons?"
   ]
  },
  {
   "cell_type": "code",
   "execution_count": null,
   "metadata": {},
   "outputs": [],
   "source": [
    "# df\n",
    "df_legendary_by_type = df[['type_1', 'legendary']]\n",
    "\n",
    "# df all legendary\n",
    "df_legendary_unique = df_legendary_by_type['type_1'].unique()\n",
    "df_legendary_unique_size = len(df_legendary_unique)\n",
    "\n",
    "# df with legendary only\n",
    "df_legendary_filtered = df_legendary_by_type.query(f'legendary == True')\n",
    "df_legendary_filtered_unique = df_legendary_filtered['type_1'].unique()\n",
    "\n",
    "print(f\"There are {len(df_legendary_filtered_unique)}/{df_legendary_unique_size} legendary Pokémons: \")\n",
    "for i in df_legendary_unique:\n",
    "  if i in df_legendary_filtered_unique:\n",
    "    print(f\"{i} ✔\")\n",
    "  else:\n",
    "    print(i)"
   ]
  },
  {
   "attachments": {},
   "cell_type": "markdown",
   "metadata": {},
   "source": [
    "## Conclusão"
   ]
  },
  {
   "attachments": {},
   "cell_type": "markdown",
   "metadata": {},
   "source": [
    "Após a preparação do dataset, foi possível responder todas as perguntas elaboradas."
   ]
  }
 ],
 "metadata": {
  "kernelspec": {
   "display_name": ".venv-eda-pokemon",
   "language": "python",
   "name": "python3"
  },
  "language_info": {
   "codemirror_mode": {
    "name": "ipython",
    "version": 3
   },
   "file_extension": ".py",
   "mimetype": "text/x-python",
   "name": "python",
   "nbconvert_exporter": "python",
   "pygments_lexer": "ipython3",
   "version": "3.11.3"
  },
  "orig_nbformat": 4
 },
 "nbformat": 4,
 "nbformat_minor": 2
}
