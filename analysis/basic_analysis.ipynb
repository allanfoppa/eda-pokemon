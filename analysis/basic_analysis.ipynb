{
 "cells": [
  {
   "attachments": {},
   "cell_type": "markdown",
   "metadata": {},
   "source": [
    "# Análise do dataset Pokémon"
   ]
  },
  {
   "attachments": {},
   "cell_type": "markdown",
   "metadata": {},
   "source": [
    "## Contextualização\n",
    "\n",
    "Para esse EDA escolhi o dataset de Pokémon, por ser um grade fã da franquia."
   ]
  },
  {
   "attachments": {},
   "cell_type": "markdown",
   "metadata": {},
   "source": [
    "## Obtenção de dados\n",
    "\n",
    "Os dados utilizados nessa análise estão disponiveis no Kaggle (https://www.kaggle.com/datasets/abcsds/pokemon)\n",
    "baixados em 25/06/2023."
   ]
  },
  {
   "cell_type": "code",
   "execution_count": null,
   "metadata": {},
   "outputs": [],
   "source": [
    "# needed packages\n",
    "import pandas as pd\n",
    "import matplotlib.pyplot as plt\n",
    "import numpy as np\n",
    "import seaborn as sns"
   ]
  },
  {
   "cell_type": "code",
   "execution_count": null,
   "metadata": {},
   "outputs": [],
   "source": [
    "# load dataset\n",
    "df = pd.read_csv(\"../dataset/Pokemon.csv\")"
   ]
  },
  {
   "attachments": {},
   "cell_type": "markdown",
   "metadata": {},
   "source": [
    "## Análise exploratória"
   ]
  },
  {
   "cell_type": "code",
   "execution_count": null,
   "metadata": {},
   "outputs": [],
   "source": [
    "# show df head\n",
    "df.head()"
   ]
  },
  {
   "cell_type": "code",
   "execution_count": null,
   "metadata": {},
   "outputs": [],
   "source": [
    "# show df tail\n",
    "df.tail()"
   ]
  },
  {
   "attachments": {},
   "cell_type": "markdown",
   "metadata": {},
   "source": [
    "De acordo com a fonte dos dados, essa é a descrição de cada uma das variáveis presentes no dataset.\n",
    "\n",
    "`#`: ID para cada Pokémon  \n",
    "`Name`: Nome de cada Pokémon  \n",
    "`Type 1`: Tipo primário do Pokémon  \n",
    "`Type 2`: Alguns Pokémons tem um tipo secundário  \n",
    "`Total`: A soma de todos atributos, quanto maior o total, mais forte é o Pokémon  \n",
    "`HP`: Vida, é o que define quanto de dano ele recebe antes de desmaiar  \n",
    "`Attack`: Valor de dano do ataque fisíco  \n",
    "`Defense`: Valor de resistência a ataque fisíco  \n",
    "`SP Atk`: Valor de dano do ataque especiais  \n",
    "`SP Def`: Valor de resistência a ataque especiais  \n",
    "`Speed`: A velocidade de um Pokémon determina se ele ataca ou é atacado primeiro.  \n",
    "`Generation`: Indica qual a geração do Pokémon  \n",
    "`Ledendary`: Indica se ele é lendário  "
   ]
  },
  {
   "cell_type": "code",
   "execution_count": null,
   "metadata": {},
   "outputs": [],
   "source": [
    "# verificando as dimensões\n",
    "print('Variáveis: ', df.shape[1])\n",
    "print('Entradas: ', df.shape[0])"
   ]
  },
  {
   "cell_type": "code",
   "execution_count": null,
   "metadata": {},
   "outputs": [],
   "source": [
    "# verificando as informações sobre o dataset\n",
    "df.info()"
   ]
  },
  {
   "attachments": {},
   "cell_type": "markdown",
   "metadata": {},
   "source": [
    "A partir da função `describe()` podemos ver a distribuição estatística das variáveis. Tiramos informações como:\n",
    "\n",
    "`count` - Contagem de entradas válidas para cada variável  \n",
    "`mean` - Média aritmética dos valores da variável  \n",
    "`std` - Desvio padrão  \n",
    "`min` - Menor valor existente para a variável  \n",
    "`25%` - Primeiro quartil  \n",
    "`50%` - Mediana  \n",
    "`75%` - Terceiro quartil  \n",
    "`max` - MAior valor existente para a variável  "
   ]
  },
  {
   "cell_type": "code",
   "execution_count": null,
   "metadata": {},
   "outputs": [],
   "source": [
    "# distribuição estatística das variáveis numéricas\n",
    "df.describe()"
   ]
  },
  {
   "attachments": {},
   "cell_type": "markdown",
   "metadata": {},
   "source": [
    "Passado o argumento `include='O'`, para que busca de variáveis categóricas.\n",
    "\n",
    "`count` - Contagem de entradas válidas para a variável  \n",
    "`unique` - Quantidade de entradas únicas  \n",
    "`top` - Entrada mais comum  \n",
    "`freq` - Frequência em que a entrada mais comum ocorre  "
   ]
  },
  {
   "cell_type": "code",
   "execution_count": null,
   "metadata": {},
   "outputs": [],
   "source": [
    "# distribuição estatística das variáveis categóricas\n",
    "df.describe(include='O')"
   ]
  },
  {
   "attachments": {},
   "cell_type": "markdown",
   "metadata": {},
   "source": [
    "As entradas mais comuns são:\n",
    "\n",
    "`Name`: Bulbasaur  \n",
    "`Type1`: Water  \n",
    "`Type2`: Flying  "
   ]
  },
  {
   "cell_type": "code",
   "execution_count": null,
   "metadata": {},
   "outputs": [],
   "source": [
    "# checando a porcentagem de valores ausentes para cada variável\n",
    "(df.isnull().sum() / df.shape[0]).sort_values(ascending=False)"
   ]
  },
  {
   "attachments": {},
   "cell_type": "markdown",
   "metadata": {},
   "source": [
    "Na verificação de valores nulos, apenas o atributo `Type2` tem valores ausentes, mas, que é explicavel já que nem todo Pokémon tem um tipo secundário."
   ]
  },
  {
   "attachments": {},
   "cell_type": "markdown",
   "metadata": {},
   "source": [
    "Qual o tipo de distribuição das variáveis?"
   ]
  },
  {
   "cell_type": "code",
   "execution_count": null,
   "metadata": {},
   "outputs": [],
   "source": [
    "# excluindo o numero da pokedéx\n",
    "df_hist = df.drop([\"#\"], axis=1)\n",
    "\n",
    "df_hist.hist(bins=20, figsize=(20,15))"
   ]
  },
  {
   "attachments": {},
   "cell_type": "markdown",
   "metadata": {},
   "source": [
    "## Conclusão"
   ]
  },
  {
   "attachments": {},
   "cell_type": "markdown",
   "metadata": {},
   "source": [
    "O dataset está bem completo, podendo assim ir para a análise univariada"
   ]
  }
 ],
 "metadata": {
  "kernelspec": {
   "display_name": ".venv-eda-pokemon",
   "language": "python",
   "name": "python3"
  },
  "language_info": {
   "codemirror_mode": {
    "name": "ipython",
    "version": 3
   },
   "file_extension": ".py",
   "mimetype": "text/x-python",
   "name": "python",
   "nbconvert_exporter": "python",
   "pygments_lexer": "ipython3",
   "version": "3.11.3"
  },
  "orig_nbformat": 4
 },
 "nbformat": 4,
 "nbformat_minor": 2
}
